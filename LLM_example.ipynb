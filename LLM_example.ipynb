{
 "cells": [
  {
   "cell_type": "markdown",
   "metadata": {},
   "source": [
    "pip install google-genai"
   ]
  },
  {
   "cell_type": "code",
   "execution_count": 1,
   "metadata": {},
   "outputs": [],
   "source": [
    "from google import genai\n",
    "import json"
   ]
  },
  {
   "cell_type": "code",
   "execution_count": 2,
   "metadata": {},
   "outputs": [],
   "source": [
    "def load_config():\n",
    "    with open(\"config.json\", \"r\") as file:\n",
    "        return json.load(file)"
   ]
  },
  {
   "cell_type": "code",
   "execution_count": 3,
   "metadata": {},
   "outputs": [],
   "source": [
    "config = load_config()\n",
    "API_KEY = config[\"API_KEY\"]"
   ]
  },
  {
   "cell_type": "code",
   "execution_count": 4,
   "metadata": {},
   "outputs": [],
   "source": [
    "class Custom_GenAI:\n",
    "\n",
    "    def __init__(self, API_KEY):\n",
    "        self.client = genai.Client(api_key=API_KEY)\n",
    "\n",
    "    def ask_ai(self, question):\n",
    "        response = self.client.models.generate_content(\n",
    "        model=\"gemini-2.0-flash\",\n",
    "        contents=question,\n",
    "        )\n",
    "\n",
    "        return response.text"
   ]
  },
  {
   "cell_type": "code",
   "execution_count": 5,
   "metadata": {},
   "outputs": [],
   "source": [
    "ai = Custom_GenAI(API_KEY)"
   ]
  },
  {
   "cell_type": "code",
   "execution_count": 7,
   "metadata": {},
   "outputs": [
    {
     "name": "stdout",
     "output_type": "stream",
     "text": [
      "Okay, here's a quick and protein-packed vegetarian meal recipe that can be whipped up in 10-20 minutes:\n",
      "\n",
      "**Speedy Chickpea & Spinach Scramble with Toast**\n",
      "\n",
      "This recipe relies on canned chickpeas for speed and incorporates spinach for added nutrients.\n",
      "\n",
      "**Yields:** 1 serving\n",
      "**Prep time:** 5 minutes\n",
      "**Cook time:** 10-15 minutes\n",
      "\n",
      "**Ingredients:**\n",
      "\n",
      "*   1 tablespoon olive oil\n",
      "*   1/4 cup chopped onion\n",
      "*   1 clove garlic, minced\n",
      "*   1/2 teaspoon cumin powder\n",
      "*   1/4 teaspoon turmeric powder\n",
      "*   1/4 teaspoon red pepper flakes (optional, for heat)\n",
      "*   1 (15-ounce) can chickpeas, rinsed and drained\n",
      "*   1/4 cup Vegetable broth \n",
      "*   1/4 cup chopped tomatoes\n",
      "*   2 cups fresh spinach\n",
      "*   1 tablespoon lemon juice\n",
      "*   Salt and pepper to taste\n",
      "*   1-2 slices whole-wheat toast (or your favorite bread)\n",
      "*   Optional toppings: Avocado slices, everything bagel seasoning, hot sauce\n",
      "\n",
      "**Instructions:**\n",
      "\n",
      "1.  **Prep:**  Rinse and drain the chickpeas. Chop the onion, garlic, and tomatoes.\n",
      "2.  **Sauté Aromatics:** Heat the olive oil in a non-stick skillet over medium heat. Add the chopped onion and garlic and sauté for 2-3 minutes, or until softened.\n",
      "3.  **Add Spices & Chickpeas:** Stir in the cumin, turmeric, and red pepper flakes (if using). Cook for another minute until fragrant. Add the rinsed and drained chickpeas to the skillet.\n",
      "4.  **Mash & Sauté:** Using a fork or potato masher, lightly mash some of the chickpeas in the skillet (this helps create a scramble-like texture). Add the vegetable broth and stir to combine. Cook for 3-5 minutes, stirring occasionally, until the chickpeas are heated through and slightly softened.\n",
      "5.  **Wilt Spinach:** Add the fresh spinach to the skillet and stir until it wilts, about 1-2 minutes.\n",
      "6.  **Season & Finish:** Stir in the lemon juice, chopped tomatoes, salt, and pepper to taste. Mix well.\n",
      "7.  **Toast Bread:** While the chickpea scramble is cooking, toast your bread.\n",
      "8.  **Serve:** Spoon the chickpea and spinach scramble over the toasted bread. Top with optional toppings like avocado slices, everything bagel seasoning, or a dash of hot sauce.\n",
      "\n",
      "**Why it's high in protein and fast:**\n",
      "\n",
      "*   **Chickpeas:**  A great source of plant-based protein and fiber.\n",
      "*   **Speed:**  Canned chickpeas cut down on cooking time significantly.  The spinach wilts quickly, and the spices add flavor fast.\n",
      "*  **Lemon Juice:** helps to better absorb Iron from Spinach.\n",
      "*   **Toast:** provides complex carbs for sustained energy.\n",
      "\n",
      "**Tips & Variations:**\n",
      "\n",
      "*   **Spice Level:** Adjust the amount of red pepper flakes to your preference.\n",
      "*   **Other Veggies:** Feel free to add other quick-cooking vegetables like chopped bell peppers or mushrooms to the sauté.\n",
      "*   **Egg Alternative (Optional):** For a richer flavor and texture, you can whisk 1-2 eggs or egg whites and pour them into the skillet with the spinach. Cook until set, stirring gently to create a scramble.\n",
      "*   **Make it Vegan:** Ensure your bread is vegan-friendly.  Omit the optional egg alternative.\n",
      "*   **Cheese:** Add a sprinkle of feta cheese after cooking for extra flavor and a bit more protein (if you're not vegan).\n",
      "\n",
      "Enjoy your quick, healthy, and protein-packed meal!\n",
      "\n"
     ]
    }
   ],
   "source": [
    "ques = \"Give me a vegeterian meal recepie that can be cooked in 10 to 20 mins and that is rich in protein\"\n",
    "\n",
    "res = ai.ask_ai(ques)\n",
    "\n",
    "print(res)"
   ]
  },
  {
   "cell_type": "code",
   "execution_count": null,
   "metadata": {},
   "outputs": [],
   "source": []
  }
 ],
 "metadata": {
  "kernelspec": {
   "display_name": "Python 3",
   "language": "python",
   "name": "python3"
  },
  "language_info": {
   "codemirror_mode": {
    "name": "ipython",
    "version": 3
   },
   "file_extension": ".py",
   "mimetype": "text/x-python",
   "name": "python",
   "nbconvert_exporter": "python",
   "pygments_lexer": "ipython3",
   "version": "3.11.4"
  }
 },
 "nbformat": 4,
 "nbformat_minor": 2
}
