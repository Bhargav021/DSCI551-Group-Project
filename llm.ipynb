{
 "cells": [
  {
   "cell_type": "markdown",
   "metadata": {},
   "source": [
    "## Set up the LLM for query translation"
   ]
  },
  {
   "cell_type": "code",
   "execution_count": 87,
   "metadata": {},
   "outputs": [],
   "source": [
    "from google import genai\n",
    "import json\n",
    "import psycopg2"
   ]
  },
  {
   "cell_type": "code",
   "execution_count": 88,
   "metadata": {},
   "outputs": [],
   "source": [
    "def load_config():\n",
    "    with open(\"config.json\", \"r\") as file:\n",
    "        return json.load(file)"
   ]
  },
  {
   "cell_type": "code",
   "execution_count": 89,
   "metadata": {},
   "outputs": [],
   "source": [
    "# Define Custom GenAI class for LLM interaction\n",
    "class Custom_GenAI:\n",
    "    def __init__(self, API_KEY):\n",
    "        self.client = genai.Client(api_key=API_KEY)\n",
    "\n",
    "    def ask_ai(self, question, schema):\n",
    "        prompt = f\"Here is the database schema:\\n{schema}\\nNow, please answer the following question using SQL:\\n{question}\"\n",
    "        response = self.client.models.generate_content(\n",
    "            model=\"gemini-2.0-flash\",\n",
    "            contents=prompt,\n",
    "        )\n",
    "        return response.text"
   ]
  },
  {
   "cell_type": "code",
   "execution_count": 90,
   "metadata": {},
   "outputs": [],
   "source": [
    "config = load_config()\n",
    "API_KEY = config[\"API_KEY\"]"
   ]
  },
  {
   "cell_type": "code",
   "execution_count": 91,
   "metadata": {},
   "outputs": [],
   "source": [
    "database_schema = \"\"\"\n",
    "The database contains a table called 'products' with the following columns:\n",
    "\n",
    "1. code (TEXT) - Unique identifier for each product.\n",
    "2. url (TEXT) - URL for the product.\n",
    "3. creator (TEXT) - Creator of the product data.\n",
    "4. created_t (BIGINT) - Timestamp when the product data was created.\n",
    "5. created_datetime (TIMESTAMP) - The exact creation date and time of the product.\n",
    "6. last_modified_t (BIGINT) - Timestamp when the product data was last modified.\n",
    "7. last_modified_datetime (TIMESTAMP) - The exact date and time of the last modification.\n",
    "8. last_modified_by (TEXT) - The user who last modified the product data.\n",
    "9. last_updated_t (BIGINT) - Timestamp for the last update.\n",
    "10. last_updated_datetime (TIMESTAMP) - The exact date and time of the last update.\n",
    "11. product_name (TEXT) - Name of the product.\n",
    "    - Constraints: NOT NULL.\n",
    "12. abbreviated_product_name (TEXT) - Shortened version of the product name.\n",
    "13. generic_name (TEXT) - The generic name of the product.\n",
    "14. quantity (TEXT) - Quantity of the product.\n",
    "15. packaging (TEXT) - The packaging of the product.\n",
    "16. packaging_tags (TEXT) - Tags related to the packaging.\n",
    "17. packaging_en (TEXT) - English version of packaging description.\n",
    "18. packaging_text (TEXT) - Text description of the packaging.\n",
    "19. brands (TEXT) - Brands associated with the product.\n",
    "20. brands_tags (TEXT) - Tags related to the brands.\n",
    "21. brands_en (TEXT) - English version of brand names.\n",
    "22. categories (TEXT) - Categories associated with the product.\n",
    "23. categories_tags (TEXT) - Tags related to the product categories.\n",
    "24. categories_en (TEXT) - English version of categories.\n",
    "25. origins (TEXT) - Origins of the product.\n",
    "26. origins_tags (TEXT) - Tags related to the product origins.\n",
    "27. origins_en (TEXT) - English version of origins.\n",
    "28. manufacturing_places (TEXT) - Locations where the product is manufactured.\n",
    "29. manufacturing_places_tags (TEXT) - Tags related to manufacturing places.\n",
    "30. labels (TEXT) - Labels associated with the product.\n",
    "31. labels_tags (TEXT) - Tags related to the labels.\n",
    "32. labels_en (TEXT) - English version of labels.\n",
    "33. emb_codes (TEXT) - Emb codes for the product.\n",
    "34. emb_codes_tags (TEXT) - Tags related to emb codes.\n",
    "35. first_packaging_code_geo (TEXT) - First packaging code geo.\n",
    "36. cities (TEXT) - Cities where the product is available.\n",
    "37. cities_tags (TEXT) - Tags related to cities.\n",
    "38. purchase_places (TEXT) - Locations where the product can be purchased.\n",
    "39. stores (TEXT) - Stores selling the product.\n",
    "40. countries (TEXT) - Countries where the product is available.\n",
    "41. countries_tags (TEXT) - Tags related to countries.\n",
    "42. countries_en (TEXT) - English version of countries.\n",
    "43. ingredients_text (TEXT) - Ingredients list for the product.\n",
    "44. ingredients_tags (TEXT) - Tags related to ingredients.\n",
    "45. ingredients_analysis_tags (TEXT) - Tags related to ingredients analysis.\n",
    "46. allergens (TEXT) - Allergens present in the product.\n",
    "47. allergens_en (TEXT) - English version of allergens.\n",
    "48. traces (TEXT) - Traces of other substances.\n",
    "49. traces_tags (TEXT) - Tags related to traces.\n",
    "50. traces_en (TEXT) - English version of traces.\n",
    "51. serving_size (TEXT) - Serving size of the product.\n",
    "52. serving_quantity (FLOAT) - Quantity per serving.\n",
    "53. no_nutrition_data (TEXT) - Indicator for missing nutrition data.\n",
    "54. additives_n (TEXT) - Additives in the product.\n",
    "55. additives (TEXT) - Additives present in the product.\n",
    "56. additives_tags (TEXT) - Tags related to additives.\n",
    "57. additives_en (TEXT) - English version of additives.\n",
    "58. nutriscore_score (INT) - Nutri-Score of the product.\n",
    "    - Constraints: Check between 0 and 100, or NULL/UNKNOWN.\n",
    "59. nutriscore_grade (TEXT) - Nutri-Score grade of the product.\n",
    "    - Constraints: Values 'A', 'B', 'C', 'D', 'E', or NULL/UNKNOWN.\n",
    "60. nova_group (INT) - NOVA group classification for the product.\n",
    "    - Constraints: Check between 1 and 4, or NULL/UNKNOWN.\n",
    "61. pnns_groups_1 (TEXT) - PNNS group 1 for the product.\n",
    "62. pnns_groups_2 (TEXT) - PNNS group 2 for the product.\n",
    "63. food_groups (TEXT) - Food groups the product belongs to.\n",
    "64. food_groups_tags (TEXT) - Tags related to food groups.\n",
    "65. food_groups_en (TEXT) - English version of food groups.\n",
    "66. states (TEXT) - States where the product is available.\n",
    "67. states_tags (TEXT) - Tags related to states.\n",
    "68. states_en (TEXT) - English version of states.\n",
    "69. brand_owner (TEXT) - Owner of the product brand.\n",
    "70. environmental_score_score (INT) - Environmental score for the product.\n",
    "71. environmental_score_grade (TEXT) - Environmental score grade for the product.\n",
    "72. nutrient_levels_tags (TEXT) - Tags for nutrient levels.\n",
    "73. product_quantity (TEXT) - Quantity of the product.\n",
    "74. owner (TEXT) - Product owner.\n",
    "75. data_quality_errors_tags (TEXT) - Tags for data quality errors.\n",
    "76. unique_scans_n (INT) - Number of unique scans.\n",
    "77. popularity_tags (TEXT) - Tags related to popularity.\n",
    "78. completeness (TEXT) - Completeness of product data.\n",
    "79. last_image_t (BIGINT) - Timestamp for the last product image.\n",
    "80. last_image_datetime (TIMESTAMP) - Date and time for the last product image.\n",
    "81. main_category (TEXT) - Main category of the product.\n",
    "82. main_category_en (TEXT) - English version of the main category.\n",
    "83. image_url (TEXT) - URL for the product image.\n",
    "84. image_small_url (TEXT) - URL for a small-sized product image.\n",
    "85. image_ingredients_url (TEXT) - URL for the image of ingredients.\n",
    "86. image_ingredients_small_url (TEXT) - URL for the small image of ingredients.\n",
    "87. image_nutrition_url (TEXT) - URL for the image showing nutrition details.\n",
    "88. image_nutrition_small_url (TEXT) - URL for the small image showing nutrition details.\n",
    "\n",
    "Nutritional Information Columns:\n",
    "- energy_kj_100g (FLOAT) - Energy in kilojoules per 100g.\n",
    "- energy_kcal_100g (FLOAT) - Energy in kilocalories per 100g.\n",
    "- fat_100g (FLOAT) - Fat content per 100g.\n",
    "- saturated_fat_100g (FLOAT) - Saturated fat content per 100g.\n",
    "- cholesterol_100g (FLOAT) - Cholesterol content per 100g.\n",
    "- carbohydrates_100g (FLOAT) - Carbohydrates content per 100g.\n",
    "- proteins_100g (FLOAT) - Protein content per 100g.\n",
    "- salt_100g (FLOAT) - Salt content per 100g.\n",
    "- sodium_100g (FLOAT) - Sodium content per 100g.\n",
    "- fiber_100g (FLOAT) - Fiber content per 100g.\n",
    "- sugars_100g (FLOAT) - Sugars content per 100g.\n",
    "\n",
    "Additional Nutritional Details:\n",
    "- Several columns describe specific acids, fatty acids, vitamins, minerals, and other components, all measured per 100g, such as vitamin_a_100g, omega_3_fat_100g, potassium_100g, iron_100g, etc.\n",
    "\"\"\"\n"
   ]
  },
  {
   "cell_type": "code",
   "execution_count": 92,
   "metadata": {},
   "outputs": [],
   "source": [
    "# Function to clean and process the query generated by the LLM\n",
    "def clean_sql_query(generated_sql_query):\n",
    "    # Remove markdown formatting (strip backticks and extra spaces)\n",
    "    cleaned_query = generated_sql_query.replace(\"```sql\", \"\").replace(\"```\", \"\").strip()\n",
    "    return cleaned_query"
   ]
  },
  {
   "cell_type": "code",
   "execution_count": 93,
   "metadata": {},
   "outputs": [],
   "source": [
    "def execute_sql_query(sql_query):\n",
    "    # Connect to your PostgreSQL database\n",
    "    conn = psycopg2.connect(\n",
    "        dbname=\"food_facts\", user=\"postgres\", password=\"123\", host=\"localhost\", port=\"5432\"\n",
    "    )\n",
    "    cursor = conn.cursor()\n",
    "\n",
    "    try:\n",
    "        cursor.execute(sql_query)\n",
    "        results = cursor.fetchall()  # Fetch all the rows from the query\n",
    "        return results\n",
    "    except Exception as e:\n",
    "        print(f\"Error: {e}\")\n",
    "        return None\n",
    "    finally:\n",
    "        cursor.close()\n",
    "        conn.close()"
   ]
  },
  {
   "cell_type": "code",
   "execution_count": 94,
   "metadata": {},
   "outputs": [],
   "source": [
    "def format_results(results, column_names=None, query_type=\"\"):\n",
    "    if results:\n",
    "        formatted_result = \"Based on your query, here is the top result from the database:\\n\"\n",
    "        \n",
    "        for result in results:\n",
    "            # Assuming the user asked for something like \"top protein food\"\n",
    "            if query_type == \"highest_protein\":\n",
    "                formatted_result += f\"Top product with the highest protein content is '{result[0]}'. It contains {result[1]}g of protein per 100g. \"\n",
    "                formatted_result += f\"This makes it a great choice for those looking to boost their protein intake.\\n\"\n",
    "            elif query_type == \"highest_calories\":\n",
    "                formatted_result += f\"Top product with the highest calorie content is '{result[0]}'. It provides {result[2]} kcal per 100g, which could be useful for energy-dense options.\\n\"\n",
    "            elif query_type == \"category_search\":\n",
    "                formatted_result += f\"The product '{result[0]}' falls under the '{result[3]}' category and is branded as '{result[4]}'. This is important as it helps categorize the type of food you're interested in.\\n\"\n",
    "            else:\n",
    "                # Default generic case where no specific query type is defined\n",
    "                formatted_result += f\"Here are the details for the product '{result[0]}':\\n\"\n",
    "                for i, value in enumerate(result):\n",
    "                    column_name = column_names[i] if column_names else f\"Field {i + 1}\"\n",
    "                    formatted_result += f\" - {column_name}: {value if value else 'Not available'}\\n\"\n",
    "        \n",
    "        return formatted_result\n",
    "    else:\n",
    "        return \"Sorry, no results found. It seems like we couldn't find any relevant products matching your query.\"\n"
   ]
  },
  {
   "cell_type": "code",
   "execution_count": 95,
   "metadata": {},
   "outputs": [],
   "source": [
    "# Main function to handle the user's query and response\n",
    "def process_query(user_query):\n",
    "    # Step 1: Convert user query to SQL using LLM model\n",
    "    ai = Custom_GenAI(API_KEY)\n",
    "    sql_query = ai.ask_ai(user_query, database_schema)\n",
    "    \n",
    "    # Clean the generated SQL query to remove markdown formatting\n",
    "    cleaned_sql_query = clean_sql_query(sql_query)\n",
    "    print(f\"Cleaned SQL Query: {cleaned_sql_query}\")\n",
    "\n",
    "    # Step 2: Execute the cleaned SQL query on PostgreSQL database\n",
    "    query_results = execute_sql_query(cleaned_sql_query)\n",
    "    print(f\"Query Results: {query_results}\")\n",
    "\n",
    "    # Step 3: Format the results into a user-friendly response\n",
    "    formatted_output = format_results(query_results)\n",
    "    return formatted_output"
   ]
  },
  {
   "cell_type": "code",
   "execution_count": 96,
   "metadata": {},
   "outputs": [],
   "source": [
    "# Example user query\n",
    "user_query = \"What food in the database can be prepared under 20 minutes?\""
   ]
  },
  {
   "cell_type": "code",
   "execution_count": 97,
   "metadata": {},
   "outputs": [
    {
     "name": "stdout",
     "output_type": "stream",
     "text": [
      "Cleaned SQL Query: SELECT\n",
      "  product_name\n",
      "FROM products\n",
      "WHERE\n",
      "  product_name LIKE '%minute%' AND product_name LIKE '%20%';\n",
      "Query Results: [('Riz long grain étuvé 10 minutes étui de 5 sachets cuisson, 200g',), (\"Riz long grain cuisson rapide 20 minutes UNCLE BEN'S\",)]\n",
      "Based on your query, here is the top result from the database:\n",
      "Here are the details for the product 'Riz long grain étuvé 10 minutes étui de 5 sachets cuisson, 200g':\n",
      " - Field 1: Riz long grain étuvé 10 minutes étui de 5 sachets cuisson, 200g\n",
      "Here are the details for the product 'Riz long grain cuisson rapide 20 minutes UNCLE BEN'S':\n",
      " - Field 1: Riz long grain cuisson rapide 20 minutes UNCLE BEN'S\n",
      "\n"
     ]
    }
   ],
   "source": [
    "# Get the response\n",
    "response = process_query(user_query)\n",
    "print(response)"
   ]
  },
  {
   "cell_type": "code",
   "execution_count": 98,
   "metadata": {},
   "outputs": [],
   "source": [
    "# class Custom_GenAI:\n",
    "#     def __init__(self, API_KEY):\n",
    "#         self.client = genai.Client(api_key=API_KEY)\n",
    "\n",
    "#     def ask_ai(self, question):\n",
    "#         response = self.client.models.generate_content(\n",
    "#             model=\"gemini-2.0-flash\",\n",
    "#             contents=question,\n",
    "#         )\n",
    "#         return response.text"
   ]
  },
  {
   "cell_type": "code",
   "execution_count": 99,
   "metadata": {},
   "outputs": [],
   "source": [
    "# Initialize the model\n",
    "# ai = Custom_GenAI(API_KEY)"
   ]
  },
  {
   "cell_type": "code",
   "execution_count": 100,
   "metadata": {},
   "outputs": [],
   "source": [
    "# User query\n",
    "# ques = \"What is the highest protein food in the food database?\""
   ]
  },
  {
   "cell_type": "code",
   "execution_count": 101,
   "metadata": {},
   "outputs": [],
   "source": [
    "# # Translate the question into SQL query\n",
    "# sql_query = ai.ask_ai(ques)\n",
    "# print(f\"SQL Query: {sql_query}\")"
   ]
  },
  {
   "cell_type": "markdown",
   "metadata": {},
   "source": [
    "## Convert the LLM output (SQL query) to a valid SQL query and execute it on the database"
   ]
  },
  {
   "cell_type": "code",
   "execution_count": null,
   "metadata": {},
   "outputs": [],
   "source": []
  }
 ],
 "metadata": {
  "kernelspec": {
   "display_name": "Python 3",
   "language": "python",
   "name": "python3"
  },
  "language_info": {
   "codemirror_mode": {
    "name": "ipython",
    "version": 3
   },
   "file_extension": ".py",
   "mimetype": "text/x-python",
   "name": "python",
   "nbconvert_exporter": "python",
   "pygments_lexer": "ipython3",
   "version": "3.11.4"
  }
 },
 "nbformat": 4,
 "nbformat_minor": 2
}
